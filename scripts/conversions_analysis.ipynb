{
 "cells": [
  {
   "cell_type": "code",
   "execution_count": null,
   "id": "d25de89c",
   "metadata": {},
   "outputs": [],
   "source": [
    "import torch\n",
    "import numpy as np\n",
    "\n",
    "import matplotlib.pyplot as plt\n",
    "\n",
    "from jrl.conversions import (\n",
    "    quaternion_inverse,\n",
    "    quaternion_to_rotation_matrix,\n",
    "    geodesic_distance_between_rotation_matrices,\n",
    "    quaternion_conjugate,\n",
    "    quaternion_norm,\n",
    "    geodesic_distance_between_quaternions,\n",
    "    quatconj,\n",
    "    quaternion_product,\n",
    "    quatmul,\n",
    "    single_axis_angle_to_rotation_matrix, \n",
    "    rotation_matrix_to_quaternion\n",
    ")\n",
    "from jrl.utils import set_seed, to_torch\n",
    "from jrl.robots import FetchArm\n",
    "from torchviz import make_dot\n",
    "\n",
    "# Set seed to ensure reproducibility\n",
    "set_seed()\n",
    "\n",
    "torch.set_printoptions(linewidth=5000, precision=6, sci_mode=False)"
   ]
  },
  {
   "cell_type": "code",
   "execution_count": null,
   "id": "6ef9cfc6",
   "metadata": {},
   "outputs": [],
   "source": [
    "robot = FetchArm()"
   ]
  },
  {
   "cell_type": "markdown",
   "id": "82303181",
   "metadata": {},
   "source": [
    "# Norm of theta gradient  as a function of angular distance from target pose\n",
    "This plot shows the norm of theta's gradient as a function of the realized pose's error from a target pose"
   ]
  },
  {
   "cell_type": "code",
   "execution_count": null,
   "id": "53f3dc10",
   "metadata": {},
   "outputs": [],
   "source": [
    "device = \"cuda\"\n",
    "\n",
    "joint_angle, target_pose = robot.sample_joint_angles_and_poses(1)\n",
    "joint_angle = to_torch(joint_angle, device=device)\n",
    "target_pose = to_torch(target_pose, device=device)\n",
    "\n",
    "ang_dists = []\n",
    "grad_norms = []\n",
    "grads_individuals = []\n",
    "\n",
    "for i in range(50):\n",
    "    i = 50 - i - 1\n",
    "    theta = joint_angle.clone()\n",
    "    offset = 0.000025*i*torch.ones(theta.shape,dtype=torch.float32, device=device)\n",
    "    theta += offset\n",
    "    theta = theta.clone().detach().requires_grad_(True)\n",
    "    pose_fk = robot.forward_kinematics_batch(theta, out_device=device)\n",
    "    dist = torch.rad2deg(geodesic_distance_between_quaternions(pose_fk[:, 3:], target_pose[:, 3:])[0])\n",
    "    dist.backward()\n",
    "    norm =  torch.norm(theta.grad)\n",
    "    ang_dists.append(dist.item())\n",
    "    if torch.isnan(norm):\n",
    "        grad_norms.append(-0.1)\n",
    "    else:\n",
    "        grad_norms.append(norm.item())\n",
    "    \n",
    "    # Get the gradient of individual joints  \n",
    "    individuals = [theta.grad[0, j] for j in range(robot.ndof)]\n",
    "    grads = []\n",
    "    for ind in individuals:\n",
    "        if torch.isnan(ind):\n",
    "            grads.append(-0.1)\n",
    "        else:\n",
    "            grads.append(ind.item())    \n",
    "    grads_individuals.append(grads)\n",
    "\n",
    "for d, gn, grads in zip(ang_dists, grad_norms, grads_individuals):\n",
    "    assert type(d) == type(gn)\n",
    "    for grad in grads:\n",
    "        assert type(d) == type(grad)\n",
    "        \n",
    "fig, ax = plt.subplots(1, 1, figsize=(8, 6))\n",
    "ax.grid(alpha=0.1)\n",
    "ax.set_title('Angular distance vs. gradient norm')\n",
    "ax.set_xlabel('Angular distance (deg)')\n",
    "ax.set_ylabel('Gradient norm')\n",
    "ax.scatter(ang_dists, grad_norms, label=\"gradient norm\")\n",
    "grads_joint1 = [g[0] for g in grads_individuals]\n",
    "grads_joint2 = [g[1] for g in grads_individuals]\n",
    "ax.legend()"
   ]
  },
  {
   "cell_type": "markdown",
   "id": "b514d1b2",
   "metadata": {},
   "source": [
    "# Gradient  as a function of angular distance from target pose\n",
    "In this example a quaternion $q_{\\textrm{delta}}$ is parameterized by a single scalar $x$. This quaternion rotates a different quaternion $q$ from its initial state $q_{\\textrm{target}}$ to $q_{\\textrm{new}}$. The angle $\\phi$ is calculated as the rotational distance between $q_{\\textrm{target}}$ and $q_{\\textrm{new}}$. Autodiff is run with $\\phi$ as a loss term. This is repeated for multiple $x$ values. To show the results, grad($x$) is plotted as a function of $x$  "
   ]
  },
  {
   "cell_type": "code",
   "execution_count": null,
   "id": "555b0494",
   "metadata": {},
   "outputs": [],
   "source": [
    "device = \"cuda\"\n",
    "\n",
    "# q_target = torch.tensor([[1.0, 0., 0., 0.]], dtype=torch.float32, device=device)\n",
    "q_target = torch.tensor([[0.8775826, 0.4794255, 0, 0]], dtype=torch.float32, device=device) # rot +x by 1rad\n",
    "\n",
    "dists_good = [] \n",
    "dists_nan = [] \n",
    "grads_good = []\n",
    "grads_nan = []\n",
    "    \n",
    "for i in range(0, 1000, 10):\n",
    "\n",
    "    angle_delta = i*0.00001\n",
    "    x = torch.tensor([[angle_delta]], dtype=torch.float32, device=device, requires_grad=True)    \n",
    "    M = single_axis_angle_to_rotation_matrix([0., 0., 1.], x, out_device=device)\n",
    "\n",
    "    q_delta = rotation_matrix_to_quaternion(M) \n",
    "    q_new = quatmul(q_delta, quatmul(q_target, quatconj(q_delta)))\n",
    "\n",
    "    dist = geodesic_distance_between_quaternions(q_new, q_target)\n",
    "    dist.backward()\n",
    "    \n",
    "    x_grad = x.grad\n",
    "    if torch.isnan(x_grad):\n",
    "        grads_nan.append(-0.1)\n",
    "        dists_nan.append(angle_delta)\n",
    "    else:\n",
    "        grads_good.append(x_grad.item())\n",
    "        dists_good.append(angle_delta)\n",
    "\n",
    "dot = make_dot(dist)\n",
    "dot.format = 'svg'\n",
    "dot.render()\n",
    "    \n",
    "fig, ax = plt.subplots(1, 1, figsize=(8, 6))\n",
    "ax.grid(alpha=0.1)\n",
    "ax.set_title('Quaternion rotation amount vs. gradient')\n",
    "ax.set_xlabel('rotation amount (rad)')\n",
    "ax.set_ylabel('Gradient')\n",
    "ax.scatter(dists_good, grads_good, label=\"non-nan gradients\")\n",
    "ax.scatter(dists_nan, grads_nan, label=\"nan gradients\", color=\"red\")\n",
    "ax.legend()"
   ]
  },
  {
   "cell_type": "code",
   "execution_count": null,
   "id": "3c16c117",
   "metadata": {},
   "outputs": [],
   "source": []
  },
  {
   "cell_type": "code",
   "execution_count": null,
   "id": "60fefd7c",
   "metadata": {},
   "outputs": [],
   "source": []
  },
  {
   "cell_type": "code",
   "execution_count": null,
   "id": "04759263",
   "metadata": {},
   "outputs": [],
   "source": []
  },
  {
   "cell_type": "code",
   "execution_count": null,
   "id": "0caf8788",
   "metadata": {},
   "outputs": [],
   "source": []
  },
  {
   "cell_type": "code",
   "execution_count": null,
   "id": "f36d11c1",
   "metadata": {},
   "outputs": [],
   "source": []
  },
  {
   "cell_type": "code",
   "execution_count": null,
   "id": "eefc97bd",
   "metadata": {},
   "outputs": [],
   "source": []
  },
  {
   "cell_type": "code",
   "execution_count": null,
   "id": "6a42e76c",
   "metadata": {},
   "outputs": [],
   "source": []
  },
  {
   "cell_type": "code",
   "execution_count": null,
   "id": "389fc189",
   "metadata": {},
   "outputs": [],
   "source": []
  },
  {
   "cell_type": "code",
   "execution_count": null,
   "id": "a9f693be",
   "metadata": {},
   "outputs": [],
   "source": []
  },
  {
   "cell_type": "code",
   "execution_count": null,
   "id": "fab82568",
   "metadata": {},
   "outputs": [],
   "source": []
  },
  {
   "cell_type": "code",
   "execution_count": null,
   "id": "c5084211",
   "metadata": {},
   "outputs": [],
   "source": []
  },
  {
   "cell_type": "code",
   "execution_count": null,
   "id": "9b3b0e26",
   "metadata": {},
   "outputs": [],
   "source": []
  },
  {
   "cell_type": "code",
   "execution_count": null,
   "id": "9ff21849",
   "metadata": {},
   "outputs": [],
   "source": []
  }
 ],
 "metadata": {
  "kernelspec": {
   "display_name": "Python 3 (ipykernel)",
   "language": "python",
   "name": "python3"
  },
  "language_info": {
   "codemirror_mode": {
    "name": "ipython",
    "version": 3
   },
   "file_extension": ".py",
   "mimetype": "text/x-python",
   "name": "python",
   "nbconvert_exporter": "python",
   "pygments_lexer": "ipython3",
   "version": "3.8.10"
  }
 },
 "nbformat": 4,
 "nbformat_minor": 5
}
